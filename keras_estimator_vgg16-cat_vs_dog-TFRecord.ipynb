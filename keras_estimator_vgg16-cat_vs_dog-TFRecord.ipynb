{
 "cells": [
  {
   "cell_type": "markdown",
   "metadata": {},
   "source": [
    "Import packages,\n",
    "realize how we import keras from tensorflow \n",
    "\n",
    "`tensorflow.python.keras`\n",
    "\n",
    "This is new in tensorflow version 1.4.0"
   ]
  },
  {
   "cell_type": "code",
   "execution_count": 1,
   "metadata": {},
   "outputs": [
    {
     "data": {
      "text/plain": [
       "'1.4.0'"
      ]
     },
     "execution_count": 1,
     "metadata": {},
     "output_type": "execute_result"
    }
   ],
   "source": [
    "from tensorflow.python.keras.applications.vgg16 import VGG16\n",
    "from tensorflow.python.keras import models\n",
    "from tensorflow.python.keras import layers\n",
    "from tensorflow.python.keras.preprocessing import image\n",
    "import numpy as np\n",
    "import tensorflow as tf\n",
    "from tensorflow.python import keras\n",
    "import numpy as np\n",
    "import sys\n",
    "from PIL import Image\n",
    "import os\n",
    "import shutil\n",
    "\n",
    "tf.__version__"
   ]
  },
  {
   "cell_type": "markdown",
   "metadata": {},
   "source": [
    "## Build Keras model\n",
    "We are leveraging the pre-trained VGG16 model's convolution layers. aka the \"convolutional base\" of the model. Then we add our own classifier fully connected layers to do binary classification(cat vs dog). \n",
    "\n",
    "Note that since we don't want to touch the parameters pre-trained in the \"convolutional base\", so we set them as not trainable. Want to go deeper how this model works? Check out this great [jupyter notebook](https://github.com/fchollet/deep-learning-with-python-notebooks/blob/master/5.3-using-a-pretrained-convnet.ipynb) by the creator of Keras."
   ]
  },
  {
   "cell_type": "code",
   "execution_count": 2,
   "metadata": {},
   "outputs": [],
   "source": [
    "img_size = (150, 150, 3)\n",
    "conv_base = VGG16(weights='imagenet',\n",
    "                  include_top=False,\n",
    "                  input_shape=img_size)\n",
    "\n",
    "model = models.Sequential()\n",
    "model.add(conv_base)\n",
    "model.add(layers.Flatten())\n",
    "model.add(layers.Dense(256, activation='relu'))\n",
    "model.add(layers.Dense(1, activation='sigmoid'))\n",
    "conv_base.trainable = False"
   ]
  },
  {
   "cell_type": "code",
   "execution_count": 3,
   "metadata": {},
   "outputs": [
    {
     "name": "stdout",
     "output_type": "stream",
     "text": [
      "_________________________________________________________________\n",
      "Layer (type)                 Output Shape              Param #   \n",
      "=================================================================\n",
      "vgg16 (Model)                (None, 4, 4, 512)         14714688  \n",
      "_________________________________________________________________\n",
      "flatten_1 (Flatten)          (None, 8192)              0         \n",
      "_________________________________________________________________\n",
      "dense_1 (Dense)              (None, 256)               2097408   \n",
      "_________________________________________________________________\n",
      "dense_2 (Dense)              (None, 1)                 257       \n",
      "=================================================================\n",
      "Total params: 16,812,353\n",
      "Trainable params: 2,097,665\n",
      "Non-trainable params: 14,714,688\n",
      "_________________________________________________________________\n"
     ]
    }
   ],
   "source": [
    "model.summary()"
   ]
  },
  {
   "cell_type": "code",
   "execution_count": 4,
   "metadata": {},
   "outputs": [],
   "source": [
    "model.compile(loss='binary_crossentropy',\n",
    "              optimizer=tf.keras.optimizers.RMSprop(lr=2e-5),\n",
    "              metrics=['acc'])"
   ]
  },
  {
   "cell_type": "markdown",
   "metadata": {},
   "source": [
    "## Keras model to TF estimator\n",
    "`model_dir` will be our location to store trained tensorflow models. Training progress can be viewed by TensorBoard.\n",
    "\n",
    "I found that I have to specify the full path, otherwise, Tensorflow will complain about it later during training."
   ]
  },
  {
   "cell_type": "code",
   "execution_count": 5,
   "metadata": {},
   "outputs": [
    {
     "name": "stdout",
     "output_type": "stream",
     "text": [
      "model_dir:  E:\\SW_WS\\Python_SW\\Keras_catVSdog_tf_estimator\\models\\catvsdog1\n",
      "INFO:tensorflow:Using the Keras model from memory.\n",
      "INFO:tensorflow:Using default config.\n",
      "INFO:tensorflow:Using config: {'_keep_checkpoint_max': 5, '_service': None, '_task_id': 0, '_num_ps_replicas': 0, '_master': '', '_cluster_spec': <tensorflow.python.training.server_lib.ClusterSpec object at 0x00000246AFFF1A58>, '_keep_checkpoint_every_n_hours': 10000, '_is_chief': True, '_num_worker_replicas': 1, '_task_type': 'worker', '_save_checkpoints_secs': 600, '_save_summary_steps': 100, '_tf_random_seed': None, '_model_dir': 'E:\\\\SW_WS\\\\Python_SW\\\\Keras_catVSdog_tf_estimator\\\\models\\\\catvsdog1', '_session_config': None, '_save_checkpoints_steps': None, '_log_step_count_steps': 100}\n"
     ]
    }
   ],
   "source": [
    "model_dir = os.path.join(os.getcwd(), \"models//catvsdog1\").replace(\"//\", \"\\\\\")\n",
    "os.makedirs(model_dir, exist_ok=True)\n",
    "print(\"model_dir: \",model_dir)\n",
    "est_catvsdog = tf.keras.estimator.model_to_estimator(keras_model=model,\n",
    "                                                    model_dir=model_dir)"
   ]
  },
  {
   "cell_type": "markdown",
   "metadata": {},
   "source": [
    "The input_name is the model's input layer name, we will need it later when building Input function for your estimator. More on that in Input function section below."
   ]
  },
  {
   "cell_type": "code",
   "execution_count": 6,
   "metadata": {},
   "outputs": [
    {
     "data": {
      "text/plain": [
       "'input_1'"
      ]
     },
     "execution_count": 6,
     "metadata": {},
     "output_type": "execute_result"
    }
   ],
   "source": [
    "# input layer name\n",
    "input_name = model.input_names[0]\n",
    "input_name"
   ]
  },
  {
   "cell_type": "markdown",
   "metadata": {},
   "source": [
    "## Downloading the data\n",
    "\n",
    "The cats vs. dogs dataset was made available by Kaggle.com as part of a computer vision \n",
    "competition in late 2013. You can download the original dataset at \n",
    "https://www.kaggle.com/c/dogs-vs-cats/download/train.zip (you will need to create a Kaggle account if you don't already have one -- don't worry, the \n",
    "process is painless).\n",
    "\n",
    "After downloading and uncompressing it, we will create a new dataset containing three subsets: a training set with 1000 samples of each class, and a test set with 500 samples of each class."
   ]
  },
  {
   "cell_type": "code",
   "execution_count": 7,
   "metadata": {},
   "outputs": [],
   "source": [
    "# The path to the directory where the original\n",
    "# dataset was uncompressed\n",
    "original_dataset_dir = 'E:\\\\Learning_Resources\\\\Deep_learning\\\\my_data_sets\\\\DATASETS_IMAGE\\\\dog_vs_cat\\\\train'\n",
    "\n",
    "# The directory where we will\n",
    "# store our smaller dataset\n",
    "base_dir = './data/dog_vs_cat_small'\n",
    "train_dir = os.path.join(base_dir, 'train')\n",
    "test_dir = os.path.join(base_dir, 'test')\n",
    "train_cats_dir = os.path.join(train_dir, 'cats')\n",
    "train_dogs_dir = os.path.join(train_dir, 'dogs')\n",
    "test_cats_dir = os.path.join(test_dir, 'cats')\n",
    "test_dogs_dir = os.path.join(test_dir, 'dogs')"
   ]
  },
  {
   "cell_type": "code",
   "execution_count": null,
   "metadata": {},
   "outputs": [],
   "source": [
    "os.makedirs(base_dir, exist_ok=True)\n",
    "# Directories for our training,\n",
    "# validation and test splits\n",
    "os.mkdir(train_dir)\n",
    "os.mkdir(test_dir)\n",
    "# Directory with our training cat pictures\n",
    "os.mkdir(train_cats_dir)\n",
    "# Directory with our training dog pictures\n",
    "os.mkdir(train_dogs_dir)\n",
    "# Directory with our validation cat pictures\n",
    "os.mkdir(test_cats_dir)\n",
    "# Directory with our validation dog pictures\n",
    "os.mkdir(test_dogs_dir)\n",
    "# Copy first 1000 cat images to train_cats_dir\n",
    "fnames = ['cat.{}.jpg'.format(i) for i in range(1000)]\n",
    "for fname in fnames:\n",
    "    src = os.path.join(original_dataset_dir, fname)\n",
    "    dst = os.path.join(train_cats_dir, fname)\n",
    "    shutil.copyfile(src, dst)\n",
    "# Copy first 1000 dog images to train_dogs_dir\n",
    "fnames = ['dog.{}.jpg'.format(i) for i in range(1000)]\n",
    "for fname in fnames:\n",
    "    src = os.path.join(original_dataset_dir, fname)\n",
    "    dst = os.path.join(train_dogs_dir, fname)\n",
    "    shutil.copyfile(src, dst)\n",
    "\n",
    "# Copy next 500 cat images to test_cats_dir\n",
    "fnames = ['cat.{}.jpg'.format(i) for i in range(1500, 2000)]\n",
    "for fname in fnames:\n",
    "    src = os.path.join(original_dataset_dir, fname)\n",
    "    dst = os.path.join(test_cats_dir, fname)\n",
    "    shutil.copyfile(src, dst)    \n",
    "    \n",
    "# Copy next 500 dog images to test_dogs_dir\n",
    "fnames = ['dog.{}.jpg'.format(i) for i in range(1500, 2000)]\n",
    "for fname in fnames:\n",
    "    src = os.path.join(original_dataset_dir, fname)\n",
    "    dst = os.path.join(test_dogs_dir, fname)\n",
    "    shutil.copyfile(src, dst)\n"
   ]
  },
  {
   "cell_type": "markdown",
   "metadata": {},
   "source": [
    "As a sanity check, let's count how many pictures we have in each training split (train/test):"
   ]
  },
  {
   "cell_type": "code",
   "execution_count": 8,
   "metadata": {},
   "outputs": [
    {
     "name": "stdout",
     "output_type": "stream",
     "text": [
      "total training cat images: 1000\n",
      "total training dog images: 1000\n",
      "total test cat images: 500\n",
      "total test dog images: 500\n"
     ]
    }
   ],
   "source": [
    "print('total training cat images:', len(os.listdir(train_cats_dir)))\n",
    "print('total training dog images:', len(os.listdir(train_dogs_dir)))\n",
    "print('total test cat images:', len(os.listdir(test_cats_dir)))\n",
    "print('total test dog images:', len(os.listdir(test_dogs_dir)))"
   ]
  },
  {
   "cell_type": "markdown",
   "metadata": {},
   "source": [
    "Function to shuffle images along with the labels"
   ]
  },
  {
   "cell_type": "code",
   "execution_count": 9,
   "metadata": {},
   "outputs": [],
   "source": [
    "def unison_shuffled_copies(a, b):\n",
    "    a = np.array(a)\n",
    "    b = np.array(b)\n",
    "    assert len(a) == len(b)\n",
    "    p = np.random.permutation(len(a))\n",
    "    return a[p], b[p]"
   ]
  },
  {
   "cell_type": "markdown",
   "metadata": {},
   "source": [
    "Collect and shuffle image files with associated labels."
   ]
  },
  {
   "cell_type": "code",
   "execution_count": 10,
   "metadata": {},
   "outputs": [],
   "source": [
    "CAT_LABEL = 0\n",
    "DOG_LABEL = 1\n",
    "train_cats = [os.path.join(train_cats_dir, file_name) for file_name in os.listdir(train_cats_dir)]\n",
    "train_dogs = [os.path.join(train_dogs_dir, file_name) for file_name in os.listdir(train_dogs_dir)]\n",
    "train_files = train_cats + train_dogs\n",
    "train_labels = [CAT_LABEL]*len(train_cats)+[DOG_LABEL]*len(train_dogs)\n",
    "train_files, train_labels = unison_shuffled_copies(train_files, train_labels)\n",
    "test_cats = [os.path.join(test_cats_dir, file_name) for file_name in os.listdir(test_cats_dir)]\n",
    "test_dogs = [os.path.join(test_dogs_dir, file_name) for file_name in os.listdir(test_dogs_dir)]\n",
    "test_files = test_cats + test_dogs\n",
    "test_labels = [CAT_LABEL]*len(test_cats)+[DOG_LABEL]*len(test_dogs)\n",
    "test_files, test_labels = unison_shuffled_copies(test_files, test_labels)"
   ]
  },
  {
   "cell_type": "markdown",
   "metadata": {},
   "source": [
    "Have a look at first 10 shuffled image files and labels."
   ]
  },
  {
   "cell_type": "code",
   "execution_count": 11,
   "metadata": {},
   "outputs": [
    {
     "name": "stdout",
     "output_type": "stream",
     "text": [
      "['./data/dog_vs_cat_small\\\\train\\\\cats\\\\cat.954.jpg'\n",
      " './data/dog_vs_cat_small\\\\train\\\\dogs\\\\dog.240.jpg'\n",
      " './data/dog_vs_cat_small\\\\train\\\\dogs\\\\dog.887.jpg'\n",
      " './data/dog_vs_cat_small\\\\train\\\\cats\\\\cat.770.jpg'\n",
      " './data/dog_vs_cat_small\\\\train\\\\dogs\\\\dog.802.jpg'\n",
      " './data/dog_vs_cat_small\\\\train\\\\dogs\\\\dog.537.jpg'\n",
      " './data/dog_vs_cat_small\\\\train\\\\cats\\\\cat.498.jpg'\n",
      " './data/dog_vs_cat_small\\\\train\\\\cats\\\\cat.554.jpg'\n",
      " './data/dog_vs_cat_small\\\\train\\\\cats\\\\cat.589.jpg'\n",
      " './data/dog_vs_cat_small\\\\train\\\\dogs\\\\dog.685.jpg']\n",
      "[0 1 1 0 1 1 0 0 0 1]\n"
     ]
    }
   ],
   "source": [
    "print(train_files[:10])\n",
    "print(train_labels[:10])"
   ]
  },
  {
   "cell_type": "markdown",
   "metadata": {},
   "source": [
    "## Create TFRecord"
   ]
  },
  {
   "cell_type": "code",
   "execution_count": 12,
   "metadata": {},
   "outputs": [],
   "source": [
    "path_tfrecords_train = os.path.join(base_dir, \"train.tfrecords\")\n",
    "path_tfrecords_test = os.path.join(base_dir, \"test.tfrecords\")"
   ]
  },
  {
   "cell_type": "markdown",
   "metadata": {},
   "source": [
    "Helper-function for printing the conversion progress."
   ]
  },
  {
   "cell_type": "code",
   "execution_count": 14,
   "metadata": {},
   "outputs": [],
   "source": [
    "def print_progress(count, total):\n",
    "    # Percentage completion.\n",
    "    pct_complete = float(count) / total\n",
    "\n",
    "    # Status-message.\n",
    "    # Note the \\r which means the line should overwrite itself.\n",
    "    msg = \"\\r- Progress: {0:.1%}\".format(pct_complete)\n",
    "\n",
    "    # Print it.\n",
    "    sys.stdout.write(msg)\n",
    "    sys.stdout.flush()"
   ]
  },
  {
   "cell_type": "markdown",
   "metadata": {},
   "source": [
    "Helper-function for wrapping an integer so it can be saved to the TFRecord file."
   ]
  },
  {
   "cell_type": "code",
   "execution_count": 15,
   "metadata": {},
   "outputs": [],
   "source": [
    "def wrap_int64(value):\n",
    "    return tf.train.Feature(int64_list=tf.train.Int64List(value=[value]))"
   ]
  },
  {
   "cell_type": "markdown",
   "metadata": {},
   "source": [
    "Helper-function for wrapping raw bytes so they can be saved to the TFRecord file."
   ]
  },
  {
   "cell_type": "code",
   "execution_count": 16,
   "metadata": {},
   "outputs": [],
   "source": [
    "def wrap_bytes(value):\n",
    "    return tf.train.Feature(bytes_list=tf.train.BytesList(value=[value]))"
   ]
  },
  {
   "cell_type": "markdown",
   "metadata": {},
   "source": [
    "Function for reading images from disk and writing them along with the class-labels to a TFRecord file."
   ]
  },
  {
   "cell_type": "code",
   "execution_count": 17,
   "metadata": {},
   "outputs": [],
   "source": [
    "def convert(image_paths, labels, out_path, size=(150,150)):\n",
    "    # Args:\n",
    "    # image_paths   List of file-paths for the images.\n",
    "    # labels        Class-labels for the images.\n",
    "    # out_path      File-path for the TFRecords output file.    \n",
    "    print(\"Converting: \" + out_path)\n",
    "    # Number of images. Used when printing the progress.\n",
    "    num_images = len(image_paths)    \n",
    "    # Open a TFRecordWriter for the output-file.\n",
    "    with tf.python_io.TFRecordWriter(out_path) as writer:        \n",
    "        # Iterate over all the image-paths and class-labels.\n",
    "        for i, (path, label) in enumerate(zip(image_paths, labels)):\n",
    "            # Print the percentage-progress.\n",
    "            print_progress(count=i, total=num_images-1)\n",
    "            # Load the image-file using matplotlib's imread function.\n",
    "            img = Image.open(path)\n",
    "            img = img.resize(size)\n",
    "            img = np.array(img)\n",
    "            # Convert the image to raw bytes.\n",
    "            img_bytes = img.tostring()\n",
    "            # Create a dict with the data we want to save in the\n",
    "            # TFRecords file. You can add more relevant data here.\n",
    "            data = \\\n",
    "                {\n",
    "                    'image': wrap_bytes(img_bytes),\n",
    "                    'label': wrap_int64(label)\n",
    "                }\n",
    "            # Wrap the data as TensorFlow Features.\n",
    "            feature = tf.train.Features(feature=data)\n",
    "            # Wrap again as a TensorFlow Example.\n",
    "            example = tf.train.Example(features=feature)\n",
    "            # Serialize the data.\n",
    "            serialized = example.SerializeToString()        \n",
    "            # Write the serialized data to the TFRecords file.\n",
    "            writer.write(serialized)"
   ]
  },
  {
   "cell_type": "code",
   "execution_count": 18,
   "metadata": {},
   "outputs": [
    {
     "name": "stdout",
     "output_type": "stream",
     "text": [
      "Converting: ./data/dog_vs_cat_small\\train.tfrecords\n",
      "- Progress: 100.0%Converting: ./data/dog_vs_cat_small\\test.tfrecords\n",
      "- Progress: 100.0%"
     ]
    }
   ],
   "source": [
    "convert(image_paths=train_files,\n",
    "        labels=train_labels,\n",
    "        out_path=path_tfrecords_train)\n",
    "convert(image_paths=test_files,\n",
    "        labels=test_labels,\n",
    "        out_path=path_tfrecords_test,\n",
    "        size=img_size[:2])"
   ]
  },
  {
   "cell_type": "markdown",
   "metadata": {},
   "source": [
    "## Input function\n",
    "When we train our model, we'll need a function that reads the input image files/labels and returns the image data and labels. Estimators require that you create a function of the following format:\n",
    "````\n",
    "def input_fn():\n",
    "    ...<code>...\n",
    "    return ({ 'input_1':[ImagesValues]},\n",
    "            [ImageTypeLogit])\n",
    "```\n",
    "The return value must be a two-element tuple organized as follows: :\n",
    "\n",
    "- The first element must be a dictionary in which each input feature is a key, and then a list of values for the training batch.\n",
    "- The second element is a list of labels for the training batch.\n",
    "### Arguments\n",
    "- **filenames**, TF-record file name\n",
    "- **perform_shuffle=False**, useful when training, reads batch_size records, then shuffles (randomizes) their order.\n",
    "- **repeat_count=1**, useful when training, repeat the input data several times for each epoch\n",
    "- **batch_size=1**, reads batch_size records at a time"
   ]
  },
  {
   "cell_type": "code",
   "execution_count": 13,
   "metadata": {},
   "outputs": [],
   "source": [
    "def imgs_input_fn(filenames, perform_shuffle=False, repeat_count=1, batch_size=1):\n",
    "    def _parse_function(serialized):\n",
    "        features = \\\n",
    "        {\n",
    "            'image': tf.FixedLenFeature([], tf.string),\n",
    "            'label': tf.FixedLenFeature([], tf.int64)\n",
    "        }\n",
    "        # Parse the serialized data so we get a dict with our data.\n",
    "        parsed_example = tf.parse_single_example(serialized=serialized,\n",
    "                                                 features=features)\n",
    "        # Get the image as raw bytes.\n",
    "        image_shape = tf.stack([150, 150, 3])\n",
    "        image_raw = parsed_example['image']\n",
    "        label = tf.cast(parsed_example['label'], tf.float32)\n",
    "        # Decode the raw bytes so it becomes a tensor with type.\n",
    "        image = tf.decode_raw(image_raw, tf.uint8)\n",
    "        image = tf.cast(image, tf.float32)\n",
    "        image = tf.reshape(image, image_shape)\n",
    "        image = tf.subtract(image, 116.779) # Zero-center by mean pixel\n",
    "        image = tf.reverse(image, axis=[2]) # 'RGB'->'BGR'\n",
    "        d={input_name:image},label\n",
    "        return d\n",
    "    \n",
    "    dataset = tf.data.TFRecordDataset(filenames=filenames)\n",
    "    # Parse the serialized data in the TFRecords files.\n",
    "    # This returns TensorFlow tensors for the image and labels.\n",
    "    dataset = dataset.map(_parse_function)\n",
    "    if perform_shuffle:\n",
    "        # Randomizes input using a window of 256 elements (read into memory)\n",
    "        dataset = dataset.shuffle(buffer_size=256)\n",
    "    dataset = dataset.repeat(repeat_count)  # Repeats dataset this # times\n",
    "    dataset = dataset.batch(batch_size)  # Batch size to use\n",
    "    iterator = dataset.make_one_shot_iterator()\n",
    "    batch_features, batch_labels = iterator.get_next()\n",
    "    return batch_features, batch_labels\n"
   ]
  },
  {
   "cell_type": "markdown",
   "metadata": {},
   "source": [
    "## Look at the input function output\n",
    "Looks like color channels 'RGB' has changed to 'BGR' and shape resized to (150, 150) correctly for our model. That is the input format the VGG16's \"convolutional base\" is expecting."
   ]
  },
  {
   "cell_type": "code",
   "execution_count": 14,
   "metadata": {},
   "outputs": [
    {
     "name": "stdout",
     "output_type": "stream",
     "text": [
      "(20, 150, 150, 3)\n"
     ]
    },
    {
     "data": {
      "image/png": "[encoded data removed]",
      "text/plain": [
       "<PIL.Image.Image image mode=RGB size=150x150 at 0x246B202B048>"
      ]
     },
     "execution_count": 14,
     "metadata": {},
     "output_type": "execute_result"
    }
   ],
   "source": [
    "next_batch = imgs_input_fn(path_tfrecords_test, perform_shuffle=True, batch_size=20)\n",
    "with tf.Session() as sess:\n",
    "    first_batch = sess.run(next_batch)\n",
    "x_d = first_batch[0][input_name]\n",
    "\n",
    "print(x_d.shape)\n",
    "img = image.array_to_img(x_d[8])\n",
    "img"
   ]
  },
  {
   "cell_type": "markdown",
   "metadata": {},
   "source": [
    "### tf.estimator.train_and_evaluate"
   ]
  },
  {
   "cell_type": "markdown",
   "metadata": {},
   "source": [
    "TensorFlow release 1.4 also introduces the utility function **tf.estimator.train_and_evaluate**, which simplifies training, evaluation, and exporting Estimator models. This function enables distributed execution for training and evaluation, while still supporting local execution.\n",
    "\n",
    "Notice that the train was build on previous training result when we call the `est_catvsdog.train()`"
   ]
  },
  {
   "cell_type": "code",
   "execution_count": 15,
   "metadata": {},
   "outputs": [
    {
     "name": "stdout",
     "output_type": "stream",
     "text": [
      "INFO:tensorflow:Running training and evaluation locally (non-distributed).\n",
      "INFO:tensorflow:Start train and evaluate loop. The evaluate will happen after 600 secs (eval_spec.throttle_secs) or training is finished.\n",
      "INFO:tensorflow:Create CheckpointSaverHook.\n",
      "INFO:tensorflow:Restoring parameters from E:\\SW_WS\\Python_SW\\Keras_catVSdog_tf_estimator\\models\\catvsdog1/\n",
      "INFO:tensorflow:Saving checkpoints for 1 into E:\\SW_WS\\Python_SW\\Keras_catVSdog_tf_estimator\\models\\catvsdog1\\model.ckpt.\n",
      "INFO:tensorflow:loss = 5.44027, step = 1\n",
      "INFO:tensorflow:global_step/sec: 4.05754\n",
      "INFO:tensorflow:loss = 0.0621214, step = 101 (24.648 sec)\n",
      "INFO:tensorflow:global_step/sec: 4.06025\n",
      "INFO:tensorflow:loss = 0.0547408, step = 201 (24.627 sec)\n",
      "INFO:tensorflow:global_step/sec: 4.05889\n",
      "INFO:tensorflow:loss = 0.00780812, step = 301 (24.637 sec)\n",
      "INFO:tensorflow:global_step/sec: 4.01923\n",
      "INFO:tensorflow:loss = 5.84141e-05, step = 401 (24.880 sec)\n",
      "INFO:tensorflow:Saving checkpoints for 500 into E:\\SW_WS\\Python_SW\\Keras_catVSdog_tf_estimator\\models\\catvsdog1\\model.ckpt.\n",
      "INFO:tensorflow:Loss for final step: 4.0957e-06.\n",
      "INFO:tensorflow:Starting evaluation at 2017-12-04-07:44:00\n",
      "INFO:tensorflow:Restoring parameters from E:\\SW_WS\\Python_SW\\Keras_catVSdog_tf_estimator\\models\\catvsdog1\\model.ckpt-500\n",
      "INFO:tensorflow:Evaluation [1/100]\n",
      "INFO:tensorflow:Evaluation [2/100]\n",
      "INFO:tensorflow:Evaluation [3/100]\n",
      "INFO:tensorflow:Evaluation [4/100]\n",
      "INFO:tensorflow:Evaluation [5/100]\n",
      "INFO:tensorflow:Evaluation [6/100]\n",
      "INFO:tensorflow:Evaluation [7/100]\n",
      "INFO:tensorflow:Evaluation [8/100]\n",
      "INFO:tensorflow:Evaluation [9/100]\n",
      "INFO:tensorflow:Evaluation [10/100]\n",
      "INFO:tensorflow:Evaluation [11/100]\n",
      "INFO:tensorflow:Evaluation [12/100]\n",
      "INFO:tensorflow:Evaluation [13/100]\n",
      "INFO:tensorflow:Evaluation [14/100]\n",
      "INFO:tensorflow:Evaluation [15/100]\n",
      "INFO:tensorflow:Evaluation [16/100]\n",
      "INFO:tensorflow:Evaluation [17/100]\n",
      "INFO:tensorflow:Evaluation [18/100]\n",
      "INFO:tensorflow:Evaluation [19/100]\n",
      "INFO:tensorflow:Evaluation [20/100]\n",
      "INFO:tensorflow:Evaluation [21/100]\n",
      "INFO:tensorflow:Evaluation [22/100]\n",
      "INFO:tensorflow:Evaluation [23/100]\n",
      "INFO:tensorflow:Evaluation [24/100]\n",
      "INFO:tensorflow:Evaluation [25/100]\n",
      "INFO:tensorflow:Evaluation [26/100]\n",
      "INFO:tensorflow:Evaluation [27/100]\n",
      "INFO:tensorflow:Evaluation [28/100]\n",
      "INFO:tensorflow:Evaluation [29/100]\n",
      "INFO:tensorflow:Evaluation [30/100]\n",
      "INFO:tensorflow:Evaluation [31/100]\n",
      "INFO:tensorflow:Evaluation [32/100]\n",
      "INFO:tensorflow:Evaluation [33/100]\n",
      "INFO:tensorflow:Evaluation [34/100]\n",
      "INFO:tensorflow:Evaluation [35/100]\n",
      "INFO:tensorflow:Evaluation [36/100]\n",
      "INFO:tensorflow:Evaluation [37/100]\n",
      "INFO:tensorflow:Evaluation [38/100]\n",
      "INFO:tensorflow:Evaluation [39/100]\n",
      "INFO:tensorflow:Evaluation [40/100]\n",
      "INFO:tensorflow:Evaluation [41/100]\n",
      "INFO:tensorflow:Evaluation [42/100]\n",
      "INFO:tensorflow:Evaluation [43/100]\n",
      "INFO:tensorflow:Evaluation [44/100]\n",
      "INFO:tensorflow:Evaluation [45/100]\n",
      "INFO:tensorflow:Evaluation [46/100]\n",
      "INFO:tensorflow:Evaluation [47/100]\n",
      "INFO:tensorflow:Evaluation [48/100]\n",
      "INFO:tensorflow:Evaluation [49/100]\n",
      "INFO:tensorflow:Evaluation [50/100]\n",
      "INFO:tensorflow:Evaluation [51/100]\n",
      "INFO:tensorflow:Evaluation [52/100]\n",
      "INFO:tensorflow:Evaluation [53/100]\n",
      "INFO:tensorflow:Evaluation [54/100]\n",
      "INFO:tensorflow:Evaluation [55/100]\n",
      "INFO:tensorflow:Evaluation [56/100]\n",
      "INFO:tensorflow:Evaluation [57/100]\n",
      "INFO:tensorflow:Evaluation [58/100]\n",
      "INFO:tensorflow:Evaluation [59/100]\n",
      "INFO:tensorflow:Evaluation [60/100]\n",
      "INFO:tensorflow:Evaluation [61/100]\n",
      "INFO:tensorflow:Evaluation [62/100]\n",
      "INFO:tensorflow:Evaluation [63/100]\n",
      "INFO:tensorflow:Evaluation [64/100]\n",
      "INFO:tensorflow:Evaluation [65/100]\n",
      "INFO:tensorflow:Evaluation [66/100]\n",
      "INFO:tensorflow:Evaluation [67/100]\n",
      "INFO:tensorflow:Evaluation [68/100]\n",
      "INFO:tensorflow:Evaluation [69/100]\n",
      "INFO:tensorflow:Evaluation [70/100]\n",
      "INFO:tensorflow:Evaluation [71/100]\n",
      "INFO:tensorflow:Evaluation [72/100]\n",
      "INFO:tensorflow:Evaluation [73/100]\n",
      "INFO:tensorflow:Evaluation [74/100]\n",
      "INFO:tensorflow:Evaluation [75/100]\n",
      "INFO:tensorflow:Evaluation [76/100]\n",
      "INFO:tensorflow:Evaluation [77/100]\n",
      "INFO:tensorflow:Evaluation [78/100]\n",
      "INFO:tensorflow:Evaluation [79/100]\n",
      "INFO:tensorflow:Evaluation [80/100]\n",
      "INFO:tensorflow:Evaluation [81/100]\n",
      "INFO:tensorflow:Evaluation [82/100]\n",
      "INFO:tensorflow:Evaluation [83/100]\n",
      "INFO:tensorflow:Evaluation [84/100]\n",
      "INFO:tensorflow:Evaluation [85/100]\n",
      "INFO:tensorflow:Evaluation [86/100]\n",
      "INFO:tensorflow:Evaluation [87/100]\n",
      "INFO:tensorflow:Evaluation [88/100]\n",
      "INFO:tensorflow:Evaluation [89/100]\n",
      "INFO:tensorflow:Evaluation [90/100]\n",
      "INFO:tensorflow:Evaluation [91/100]\n",
      "INFO:tensorflow:Evaluation [92/100]\n",
      "INFO:tensorflow:Evaluation [93/100]\n",
      "INFO:tensorflow:Evaluation [94/100]\n",
      "INFO:tensorflow:Evaluation [95/100]\n",
      "INFO:tensorflow:Evaluation [96/100]\n",
      "INFO:tensorflow:Evaluation [97/100]\n",
      "INFO:tensorflow:Evaluation [98/100]\n",
      "INFO:tensorflow:Evaluation [99/100]\n",
      "INFO:tensorflow:Evaluation [100/100]\n",
      "INFO:tensorflow:Finished evaluation at 2017-12-04-07:44:02\n",
      "INFO:tensorflow:Saving dict for global step 500: acc = 0.98, global_step = 500, loss = 0.289654\n",
      "--- 146.32020020484924 seconds ---\n"
     ]
    }
   ],
   "source": [
    "train_spec = tf.estimator.TrainSpec(input_fn=lambda: imgs_input_fn(path_tfrecords_train,\n",
    "                                                                   perform_shuffle=True,\n",
    "                                                                   repeat_count=5,\n",
    "                                                                   batch_size=20), \n",
    "                                    max_steps=500)\n",
    "eval_spec = tf.estimator.EvalSpec(input_fn=lambda: imgs_input_fn(path_tfrecords_test,\n",
    "                                                                 perform_shuffle=False,\n",
    "                                                                 batch_size=1))\n",
    "\n",
    "import time\n",
    "start_time = time.time()\n",
    "tf.estimator.train_and_evaluate(est_catvsdog, train_spec, eval_spec)\n",
    "print(\"--- %s seconds ---\" % (time.time() - start_time))"
   ]
  },
  {
   "cell_type": "markdown",
   "metadata": {},
   "source": [
    "## Predict\n",
    "To predict we can set the `labels` to None because that is what we will be predicting.\n",
    "\n",
    "Here we only predict the first 10 images in the test_files."
   ]
  },
  {
   "cell_type": "code",
   "execution_count": 27,
   "metadata": {},
   "outputs": [],
   "source": [
    "def predict_imgs_input_fn(filenames, batch_size=1):\n",
    "    def _parse_function(filename, label):\n",
    "        image_string = tf.read_file(filename)\n",
    "        image = tf.image.decode_image(image_string, channels=3)\n",
    "        image.set_shape([None, None, None])\n",
    "        image = tf.image.resize_images(image, [150, 150])\n",
    "        image = tf.subtract(image, 116.779) # Zero-center by mean pixel\n",
    "        image.set_shape([150, 150, 3])\n",
    "        image = tf.reverse(image, axis=[2]) # 'RGB'->'BGR'\n",
    "        d = dict(zip([input_name], [image])), label\n",
    "        return d\n",
    "    labels = [0]*len(filenames)\n",
    "    labels=np.array(labels)\n",
    "    # Expand the shape of \"labels\" if necessory\n",
    "    if len(labels.shape) == 1:\n",
    "        labels = np.expand_dims(labels, axis=1)\n",
    "    filenames = tf.constant(filenames)\n",
    "    labels = tf.constant(labels)\n",
    "    labels = tf.cast(labels, tf.float32)\n",
    "    dataset = tf.data.Dataset.from_tensor_slices((filenames, labels))\n",
    "    dataset = dataset.map(_parse_function)\n",
    "    dataset = dataset.batch(batch_size)  # Batch size to use\n",
    "    iterator = dataset.make_one_shot_iterator()\n",
    "    batch_features, batch_labels = iterator.get_next()\n",
    "    return batch_features, batch_labels\n"
   ]
  },
  {
   "cell_type": "code",
   "execution_count": 28,
   "metadata": {},
   "outputs": [],
   "source": [
    "predict_results = est_catvsdog.predict(\n",
    "    input_fn=lambda: predict_imgs_input_fn(test_files[:10],\n",
    "                                   batch_size=10))"
   ]
  },
  {
   "cell_type": "code",
   "execution_count": 29,
   "metadata": {
    "scrolled": true
   },
   "outputs": [
    {
     "name": "stdout",
     "output_type": "stream",
     "text": [
      "WARNING:tensorflow:Input graph does not contain a QueueRunner. That means predict yields forever. This is probably a mistake.\n",
      "INFO:tensorflow:Restoring parameters from E:\\SW_WS\\Python_SW\\Keras_catVSdog_tf_estimator\\models\\catvsdog1\\model.ckpt-500\n"
     ]
    }
   ],
   "source": [
    "predict_logits = []\n",
    "for prediction in predict_results:\n",
    "    predict_logits.append(prediction['dense_2'][0])"
   ]
  },
  {
   "cell_type": "markdown",
   "metadata": {},
   "source": [
    "### Check the prediction result\n",
    "The model correctly classified all 10 images."
   ]
  },
  {
   "cell_type": "code",
   "execution_count": 30,
   "metadata": {},
   "outputs": [
    {
     "name": "stdout",
     "output_type": "stream",
     "text": [
      "Predict dog: [False, False, True, True, False, False, False, False, False, False]\n",
      "Actual dog : [False, False, True, True, False, False, False, False, False, False]\n"
     ]
    }
   ],
   "source": [
    "predict_is_dog = [logit > 0.5 for logit in predict_logits[:10]]\n",
    "actual_is_dog = [label > 0.5 for label in test_labels[:10]]\n",
    "print(\"Predict dog:\",predict_is_dog)\n",
    "print(\"Actual dog :\",actual_is_dog)"
   ]
  },
  {
   "cell_type": "code",
   "execution_count": null,
   "metadata": {
    "collapsed": true
   },
   "outputs": [],
   "source": []
  }
 ],
 "metadata": {
  "kernelspec": {
   "display_name": "Python 3",
   "language": "python",
   "name": "python3"
  },
  "language_info": {
   "codemirror_mode": {
    "name": "ipython",
    "version": 3
   },
   "file_extension": ".py",
   "mimetype": "text/x-python",
   "name": "python",
   "nbconvert_exporter": "python",
   "pygments_lexer": "ipython3",
   "version": "3.5.2"
  }
 },
 "nbformat": 4,
 "nbformat_minor": 2
}
